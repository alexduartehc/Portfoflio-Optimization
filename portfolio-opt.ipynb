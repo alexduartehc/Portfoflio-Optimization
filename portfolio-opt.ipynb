{
 "cells": [
  {
   "cell_type": "markdown",
   "id": "fcef8c1e",
   "metadata": {},
   "source": [
    "# Portfolio Optimization\n",
    "\n",
    "## Import Required Libraries "
   ]
  },
  {
   "cell_type": "code",
   "execution_count": 1,
   "id": "dcae846a",
   "metadata": {},
   "outputs": [],
   "source": [
    "import yfinance as yf\n",
    "import pandas as pd\n",
    "from datetime import datetime, timedelta\n",
    "import numpy as np\n",
    "from scipy.optimize import minimize"
   ]
  },
  {
   "cell_type": "markdown",
   "id": "91fae17e",
   "metadata": {},
   "source": [
    "## Define Tickers and Time Range \n",
    "\n",
    "Define the list "
   ]
  },
  {
   "cell_type": "code",
   "execution_count": 2,
   "id": "eafb307d",
   "metadata": {},
   "outputs": [],
   "source": [
    "tickers = ['SPY','BND','GLD','QQQ','VTI']\n",
    "\n",
    "# SPY: Most Popular S&P500 Index\n",
    "# BND: Bond Index\n",
    "# GLD: Largest Comodity Based ETF\n",
    "# QQQ: Biggeste NASDAQ ETF\n",
    "# VTI: Entire World Stock Marcket"
   ]
  },
  {
   "cell_type": "markdown",
   "id": "c67e8257",
   "metadata": {},
   "source": [
    "Set the end date to today"
   ]
  },
  {
   "cell_type": "code",
   "execution_count": 3,
   "id": "c98967be",
   "metadata": {},
   "outputs": [],
   "source": [
    "end_date = datetime.today()"
   ]
  },
  {
   "cell_type": "markdown",
   "id": "6ede55f4",
   "metadata": {},
   "source": [
    "Set the start date to N years ago"
   ]
  },
  {
   "cell_type": "code",
   "execution_count": 4,
   "id": "85a6f9db",
   "metadata": {},
   "outputs": [],
   "source": [
    "# N is the number of years ago\n",
    "N = 5\n",
    "\n",
    "start_date = end_date - timedelta(days = N*365)"
   ]
  },
  {
   "cell_type": "markdown",
   "id": "2012ebf9",
   "metadata": {},
   "source": [
    "## Download Adjusted Close Prices\n",
    "\n",
    "Store the adjusted close prices in an empty DataFrame.\n",
    "More accurate, because they include dividends and stock splits"
   ]
  },
  {
   "cell_type": "code",
   "execution_count": 5,
   "id": "938359fa",
   "metadata": {},
   "outputs": [],
   "source": [
    "adj_close_df = pd.DataFrame()"
   ]
  },
  {
   "cell_type": "markdown",
   "id": "bc57d131",
   "metadata": {},
   "source": [
    "Download the close prices for each ticker"
   ]
  },
  {
   "cell_type": "code",
   "execution_count": 6,
   "id": "1bbde42f",
   "metadata": {},
   "outputs": [
    {
     "name": "stderr",
     "output_type": "stream",
     "text": [
      "[*********************100%***********************]  1 of 1 completed\n",
      "[*********************100%***********************]  1 of 1 completed\n",
      "[*********************100%***********************]  1 of 1 completed\n",
      "[*********************100%***********************]  1 of 1 completed\n",
      "[*********************100%***********************]  1 of 1 completed\n"
     ]
    }
   ],
   "source": [
    "for ticker in tickers:\n",
    "    data = yf.download(ticker, start=start_date, end=end_date, group_by='column', auto_adjust=True)\n",
    "    adj_close_df[ticker] = data['Close']"
   ]
  },
  {
   "cell_type": "markdown",
   "id": "a1b7b115",
   "metadata": {},
   "source": [
    "Display the DataFrame"
   ]
  },
  {
   "cell_type": "code",
   "execution_count": 7,
   "id": "3c1bd37b",
   "metadata": {},
   "outputs": [
    {
     "name": "stdout",
     "output_type": "stream",
     "text": [
      "                   SPY        BND         GLD         QQQ         VTI\n",
      "Date                                                                 \n",
      "2020-08-05  309.233643  77.197258  191.350006  263.201691  156.947311\n",
      "2020-08-06  311.300690  77.318222  193.889999  266.687805  157.709549\n",
      "2020-08-07  311.524170  77.231834  190.809998  263.609558  157.839676\n",
      "2020-08-10  312.455292  77.145447  190.149994  262.483154  158.276581\n",
      "2020-08-11  309.876160  76.877556  179.940002  257.511353  157.003036\n",
      "...                ...        ...         ...         ...         ...\n",
      "2025-07-29  635.260010  73.137398  306.250000  567.260010  312.609985\n",
      "2025-07-30  634.460022  72.948036  300.959991  568.020020  312.250000\n",
      "2025-07-31  632.080017  72.957993  302.959991  565.010010  310.890015\n",
      "2025-08-01  621.719971  73.589996  309.109985  553.880005  305.739990\n",
      "2025-08-04  628.880005  73.514999  310.510986  561.710022  309.348999\n",
      "\n",
      "[1255 rows x 5 columns]\n"
     ]
    }
   ],
   "source": [
    "print(adj_close_df)"
   ]
  },
  {
   "cell_type": "markdown",
   "id": "44c51e76",
   "metadata": {},
   "source": [
    "# Calculate Lognormal Returns"
   ]
  },
  {
   "cell_type": "code",
   "execution_count": 8,
   "id": "61245e5b",
   "metadata": {},
   "outputs": [],
   "source": [
    "# One day's prcie divided by the previous day's price\n",
    "\n",
    "log_returns = np.log(adj_close_df / adj_close_df.shift(1))\n",
    "log_returns = log_returns.dropna()"
   ]
  },
  {
   "cell_type": "markdown",
   "id": "fa8c4ed8",
   "metadata": {},
   "source": [
    "## Calculate Covariance Matrix\n",
    "\n",
    "Calculate the covariance matrix using annualized log returns \n",
    "\n",
    "It is how we measure the total risk of the portfolio"
   ]
  },
  {
   "cell_type": "code",
   "execution_count": 9,
   "id": "9593fcaf",
   "metadata": {},
   "outputs": [
    {
     "name": "stdout",
     "output_type": "stream",
     "text": [
      "          SPY       BND       GLD       QQQ       VTI\n",
      "SPY  0.030627  0.001909  0.003625  0.038337  0.031103\n",
      "BND  0.001909  0.003596  0.003152  0.002738  0.002000\n",
      "GLD  0.003625  0.003152  0.023805  0.004883  0.003779\n",
      "QQQ  0.038337  0.002738  0.004883  0.054431  0.039008\n",
      "VTI  0.031103  0.002000  0.003779  0.039008  0.031916\n"
     ]
    }
   ],
   "source": [
    "cov_matrix = log_returns.cov()*252 #number of trading days per year\n",
    "print(cov_matrix)"
   ]
  },
  {
   "cell_type": "markdown",
   "id": "f2548b42",
   "metadata": {},
   "source": [
    "## Define Portfolio Performance Metrics \n",
    "\n",
    "Calculate the portfolio standard deviation"
   ]
  },
  {
   "cell_type": "code",
   "execution_count": 10,
   "id": "4e8aef20",
   "metadata": {},
   "outputs": [],
   "source": [
    "def standard_deviation(weights, cov_matrix):\n",
    "    variance = weights.T @ cov_matrix @ weights\n",
    "    return np.sqrt(variance)"
   ]
  },
  {
   "cell_type": "markdown",
   "id": "def68d1e",
   "metadata": {},
   "source": [
    "Calculate the expected return (assuming they will be like the average of past returns, which might not acctually be the best assumption)"
   ]
  },
  {
   "cell_type": "code",
   "execution_count": 11,
   "id": "f7b52371",
   "metadata": {},
   "outputs": [],
   "source": [
    "def expected_return (weights, log_returns):\n",
    "    return np.sum(log_returns.mean()*weights)*252"
   ]
  },
  {
   "cell_type": "markdown",
   "id": "976da59b",
   "metadata": {},
   "source": [
    "Calculate the Sharpe Ratio"
   ]
  },
  {
   "cell_type": "code",
   "execution_count": 12,
   "id": "201b1e73",
   "metadata": {},
   "outputs": [],
   "source": [
    "def sharpe_ratio (weights, log_returns, cov_matrix, risk_free_rate):\n",
    "    return(expected_return(weights, log_returns) - risk_free_rate) / standard_deviation(weights, cov_matrix)"
   ]
  },
  {
   "cell_type": "markdown",
   "id": "f9a2034f",
   "metadata": {},
   "source": [
    "## Portfolio Optimization"
   ]
  },
  {
   "cell_type": "markdown",
   "id": "7aabb7ae",
   "metadata": {},
   "source": [
    "Although it might not be the most accurate, in Finance Text Books, it's very commun to assume a Risk Free Rate of 2% "
   ]
  },
  {
   "cell_type": "code",
   "execution_count": 13,
   "id": "0f77982b",
   "metadata": {},
   "outputs": [],
   "source": [
    "risk_free_rate = 0.02"
   ]
  },
  {
   "cell_type": "markdown",
   "id": "db46e548",
   "metadata": {},
   "source": [
    "Define the function to minimize (Negative Sharp Ratio)"
   ]
  },
  {
   "cell_type": "code",
   "execution_count": 14,
   "id": "caedc864",
   "metadata": {},
   "outputs": [],
   "source": [
    "def neg_sharpe_ratio(weights, log_returns, cov_matrix, risk_free_rate):\n",
    "    return -sharpe_ratio(weights, log_returns, cov_matrix, risk_free_rate)"
   ]
  },
  {
   "cell_type": "markdown",
   "id": "26600eaa",
   "metadata": {},
   "source": [
    "Set the constraints (conditions that must be met during the optimization problem) and bounds (limits placed on each variable):"
   ]
  },
  {
   "cell_type": "code",
   "execution_count": null,
   "id": "05c729f0",
   "metadata": {},
   "outputs": [],
   "source": [
    "# All the weights must sum to 1\n",
    "constraints = {'type': 'eq', 'fun': lambda weights: np.sum(weights) - 1} \n",
    "\n",
    "# Lower Bound as 0: we cannot go short on any of the assets\n",
    "# Higher Bound as 0.5: more than half of our portfolio cannot be allocated to the same asset \n",
    "bounds = [(0, 0.5) for _ in range(len(tickers))]"
   ]
  },
  {
   "cell_type": "markdown",
   "id": "5973d649",
   "metadata": {},
   "source": [
    "Set the initial weights"
   ]
  },
  {
   "cell_type": "code",
   "execution_count": 16,
   "id": "276081f2",
   "metadata": {},
   "outputs": [
    {
     "name": "stdout",
     "output_type": "stream",
     "text": [
      "[0.2 0.2 0.2 0.2 0.2]\n"
     ]
    }
   ],
   "source": [
    "initial_weights = np.array([1/len(tickers)]*len(tickers))\n",
    "print(initial_weights)"
   ]
  },
  {
   "cell_type": "markdown",
   "id": "06dbe065",
   "metadata": {},
   "source": [
    "Optimize the weights to maximize Sharpe Ratio\n",
    "\n",
    "SLSQP (Sequential Least Squares Quadratic Programming) is a nummerical optimization technique useful for solving nonlinear optimization problems with constraints"
   ]
  },
  {
   "cell_type": "code",
   "execution_count": null,
   "id": "3f783f83",
   "metadata": {},
   "outputs": [],
   "source": [
    "optimized_results = minimize(\n",
    "    neg_sharpe_ratio, initial_weights, args=(log_returns, cov_matrix, risk_free_rate),\n",
    "    method='SLSQP', constraints=constraints, bounds= bounds)"
   ]
  },
  {
   "cell_type": "code",
   "execution_count": 18,
   "id": "c59ab9d1",
   "metadata": {},
   "outputs": [],
   "source": [
    "optimal_weights = optimized_results.x"
   ]
  },
  {
   "cell_type": "markdown",
   "id": "8eb4f2f1",
   "metadata": {},
   "source": [
    "## Analyze the Optimal Portfolio\n",
    "\n",
    "Display analytics of the optimal portfolio "
   ]
  },
  {
   "cell_type": "code",
   "execution_count": 19,
   "id": "3beea414",
   "metadata": {},
   "outputs": [
    {
     "name": "stdout",
     "output_type": "stream",
     "text": [
      "Optimal Weights:\n",
      "SPY: 0.5000\n",
      "BND: 0.0000\n",
      "GLD: 0.4507\n",
      "QQQ: 0.0000\n",
      "VTI: 0.0493\n",
      "\n",
      "Expected Annual Return: 0.1219\n",
      "Expected Volatility: 0.1261\n",
      "Sharpe Ratio: 0.8079\n"
     ]
    }
   ],
   "source": [
    "print(\"Optimal Weights:\")\n",
    "for ticker, weight in zip(tickers, optimal_weights):\n",
    "    print(f\"{ticker}: {weight:.4f}\")\n",
    "\n",
    "print()\n",
    "\n",
    "optimal_portfolio_return = expected_return(optimal_weights, log_returns)\n",
    "optimal_portfolio_volatility = standard_deviation(optimal_weights, cov_matrix)\n",
    "optimal_sharpe_ratio = sharpe_ratio(optimal_weights, log_returns, cov_matrix, risk_free_rate)\n",
    "\n",
    "print(f\"Expected Annual Return: {optimal_portfolio_return:.4f}\")\n",
    "print(f\"Expected Volatility: {optimal_portfolio_volatility:.4f}\")\n",
    "print(f\"Sharpe Ratio: {optimal_sharpe_ratio:.4f}\")"
   ]
  },
  {
   "cell_type": "markdown",
   "id": "784593a6",
   "metadata": {},
   "source": [
    "## Display the final portfolio in a plot"
   ]
  },
  {
   "cell_type": "code",
   "execution_count": 20,
   "id": "05df778a",
   "metadata": {},
   "outputs": [
    {
     "data": {
      "image/png": "[encoded data removed]",
      "text/plain": [
       "<Figure size 1000x600 with 1 Axes>"
      ]
     },
     "metadata": {},
     "output_type": "display_data"
    }
   ],
   "source": [
    "import matplotlib.pyplot as plt\n",
    "\n",
    "plt.figure(figsize=(10, 6))\n",
    "plt.bar(tickers, optimal_weights)\n",
    "\n",
    "plt.xlabel('Assets')\n",
    "plt.ylabel('Optimal Weights')\n",
    "plt.title('Optimal Portfolio Weights')\n",
    "\n",
    "plt.show()"
   ]
  }
 ],
 "metadata": {
  "kernelspec": {
   "display_name": "Python 3",
   "language": "python",
   "name": "python3"
  },
  "language_info": {
   "codemirror_mode": {
    "name": "ipython",
    "version": 3
   },
   "file_extension": ".py",
   "mimetype": "text/x-python",
   "name": "python",
   "nbconvert_exporter": "python",
   "pygments_lexer": "ipython3",
   "version": "3.13.5"
  }
 },
 "nbformat": 4,
 "nbformat_minor": 5
}
